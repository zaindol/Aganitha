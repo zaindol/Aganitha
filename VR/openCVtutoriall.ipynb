{
 "cells": [
  {
   "cell_type": "code",
   "execution_count": 1,
   "metadata": {},
   "outputs": [
    {
     "name": "stdout",
     "output_type": "stream",
     "text": [
      "Requirement already up-to-date: ipykernel in /home/zainul/.local/lib/python3.9/site-packages (6.7.0)\n",
      "Requirement already satisfied, skipping upgrade: matplotlib-inline<0.2.0,>=0.1.0 in /home/zainul/.local/lib/python3.9/site-packages (from ipykernel) (0.1.3)\n",
      "Requirement already satisfied, skipping upgrade: nest-asyncio in /home/zainul/.local/lib/python3.9/site-packages (from ipykernel) (1.5.4)\n",
      "Requirement already satisfied, skipping upgrade: debugpy<2.0,>=1.0.0 in /home/zainul/.local/lib/python3.9/site-packages (from ipykernel) (1.5.1)\n",
      "Requirement already satisfied, skipping upgrade: jupyter-client<8.0 in /home/zainul/.local/lib/python3.9/site-packages (from ipykernel) (7.1.1)\n",
      "Requirement already satisfied, skipping upgrade: tornado<7.0,>=4.2 in /home/zainul/.local/lib/python3.9/site-packages (from ipykernel) (6.1)\n",
      "Requirement already satisfied, skipping upgrade: ipython>=7.23.1 in /home/zainul/.local/lib/python3.9/site-packages (from ipykernel) (8.0.1)\n",
      "Requirement already satisfied, skipping upgrade: traitlets<6.0,>=5.1.0 in /home/zainul/.local/lib/python3.9/site-packages (from ipykernel) (5.1.1)\n",
      "Requirement already satisfied, skipping upgrade: pyzmq>=13 in /home/zainul/.local/lib/python3.9/site-packages (from jupyter-client<8.0->ipykernel) (22.3.0)\n",
      "Requirement already satisfied, skipping upgrade: jupyter-core>=4.6.0 in /home/zainul/.local/lib/python3.9/site-packages (from jupyter-client<8.0->ipykernel) (4.9.1)\n",
      "Requirement already satisfied, skipping upgrade: entrypoints in /usr/lib/python3/dist-packages (from jupyter-client<8.0->ipykernel) (0.3)\n",
      "Requirement already satisfied, skipping upgrade: python-dateutil>=2.1 in /usr/lib/python3/dist-packages (from jupyter-client<8.0->ipykernel) (2.7.3)\n",
      "Requirement already satisfied, skipping upgrade: prompt-toolkit!=3.0.0,!=3.0.1,<3.1.0,>=2.0.0 in /home/zainul/.local/lib/python3.9/site-packages (from ipython>=7.23.1->ipykernel) (3.0.24)\n",
      "Requirement already satisfied, skipping upgrade: pickleshare in /home/zainul/.local/lib/python3.9/site-packages (from ipython>=7.23.1->ipykernel) (0.7.5)\n",
      "Requirement already satisfied, skipping upgrade: decorator in /home/zainul/.local/lib/python3.9/site-packages (from ipython>=7.23.1->ipykernel) (5.1.1)\n",
      "Requirement already satisfied, skipping upgrade: stack-data in /home/zainul/.local/lib/python3.9/site-packages (from ipython>=7.23.1->ipykernel) (0.1.4)\n",
      "Requirement already satisfied, skipping upgrade: setuptools>=18.5 in /usr/lib/python3/dist-packages (from ipython>=7.23.1->ipykernel) (45.2.0)\n",
      "Requirement already satisfied, skipping upgrade: jedi>=0.16 in /home/zainul/.local/lib/python3.9/site-packages (from ipython>=7.23.1->ipykernel) (0.18.1)\n",
      "Requirement already satisfied, skipping upgrade: backcall in /home/zainul/.local/lib/python3.9/site-packages (from ipython>=7.23.1->ipykernel) (0.2.0)\n",
      "Requirement already satisfied, skipping upgrade: black in /home/zainul/.local/lib/python3.9/site-packages (from ipython>=7.23.1->ipykernel) (21.12b0)\n",
      "Requirement already satisfied, skipping upgrade: pygments in /home/zainul/.local/lib/python3.9/site-packages (from ipython>=7.23.1->ipykernel) (2.11.2)\n",
      "Requirement already satisfied, skipping upgrade: pexpect>4.3; sys_platform != \"win32\" in /usr/lib/python3/dist-packages (from ipython>=7.23.1->ipykernel) (4.6.0)\n",
      "Requirement already satisfied, skipping upgrade: wcwidth in /home/zainul/.local/lib/python3.9/site-packages (from prompt-toolkit!=3.0.0,!=3.0.1,<3.1.0,>=2.0.0->ipython>=7.23.1->ipykernel) (0.2.5)\n",
      "Requirement already satisfied, skipping upgrade: executing in /home/zainul/.local/lib/python3.9/site-packages (from stack-data->ipython>=7.23.1->ipykernel) (0.8.2)\n",
      "Requirement already satisfied, skipping upgrade: asttokens in /home/zainul/.local/lib/python3.9/site-packages (from stack-data->ipython>=7.23.1->ipykernel) (2.0.5)\n",
      "Requirement already satisfied, skipping upgrade: pure-eval in /home/zainul/.local/lib/python3.9/site-packages (from stack-data->ipython>=7.23.1->ipykernel) (0.2.1)\n",
      "Requirement already satisfied, skipping upgrade: parso<0.9.0,>=0.8.0 in /home/zainul/.local/lib/python3.9/site-packages (from jedi>=0.16->ipython>=7.23.1->ipykernel) (0.8.3)\n",
      "Requirement already satisfied, skipping upgrade: click>=7.1.2 in /home/zainul/.local/lib/python3.9/site-packages (from black->ipython>=7.23.1->ipykernel) (8.0.3)\n",
      "Requirement already satisfied, skipping upgrade: mypy-extensions>=0.4.3 in /home/zainul/.local/lib/python3.9/site-packages (from black->ipython>=7.23.1->ipykernel) (0.4.3)\n",
      "Requirement already satisfied, skipping upgrade: typing-extensions>=3.10.0.0 in /home/zainul/.local/lib/python3.9/site-packages (from black->ipython>=7.23.1->ipykernel) (4.0.1)\n",
      "Requirement already satisfied, skipping upgrade: tomli<2.0.0,>=0.2.6 in /home/zainul/.local/lib/python3.9/site-packages (from black->ipython>=7.23.1->ipykernel) (1.2.3)\n",
      "Requirement already satisfied, skipping upgrade: pathspec<1,>=0.9.0 in /home/zainul/.local/lib/python3.9/site-packages (from black->ipython>=7.23.1->ipykernel) (0.9.0)\n",
      "Requirement already satisfied, skipping upgrade: platformdirs>=2 in /home/zainul/.local/lib/python3.9/site-packages (from black->ipython>=7.23.1->ipykernel) (2.4.1)\n",
      "Requirement already satisfied, skipping upgrade: six in /usr/lib/python3/dist-packages (from asttokens->stack-data->ipython>=7.23.1->ipykernel) (1.14.0)\n",
      "Note: you may need to restart the kernel to use updated packages.\n"
     ]
    }
   ],
   "source": [
    "pip install -U ipykernel"
   ]
  },
  {
   "cell_type": "markdown",
   "metadata": {},
   "source": [
    "How to read any photo "
   ]
  },
  {
   "cell_type": "code",
   "execution_count": 2,
   "metadata": {},
   "outputs": [
    {
     "data": {
      "text/plain": [
       "233"
      ]
     },
     "execution_count": 2,
     "metadata": {},
     "output_type": "execute_result"
    }
   ],
   "source": [
    "import cv2 as cv\n",
    "img = cv.imread('meme.jpg')\n",
    "cv.imshow('meme',img)\n",
    "cv.waitKey(0)"
   ]
  },
  {
   "cell_type": "markdown",
   "metadata": {},
   "source": [
    "How to read any video"
   ]
  },
  {
   "cell_type": "code",
   "execution_count": 3,
   "metadata": {},
   "outputs": [],
   "source": [
    "import cv2 as cv\n",
    "capture = cv.VideoCapture('video.mp4')\n",
    "while True :\n",
    "    isTrue , Frame = capture.read()\n",
    "    cv.imshow('video',Frame)\n",
    "    if cv.waitKey(20)&0xFF == ord('d'):\n",
    "        break\n",
    "capture.release()\n",
    "cv.destroyAllWindows()"
   ]
  },
  {
   "cell_type": "markdown",
   "metadata": {},
   "source": [
    "how to change the running video size"
   ]
  },
  {
   "cell_type": "code",
   "execution_count": 4,
   "metadata": {},
   "outputs": [],
   "source": [
    "def changeRes(width , height):\n",
    "    # live video\n",
    "    capture.set(3,width)\n",
    "    capture.set(4,height)"
   ]
  },
  {
   "cell_type": "markdown",
   "metadata": {},
   "source": [
    "Draw "
   ]
  },
  {
   "cell_type": "code",
   "execution_count": 5,
   "metadata": {},
   "outputs": [
    {
     "data": {
      "text/plain": [
       "100"
      ]
     },
     "execution_count": 5,
     "metadata": {},
     "output_type": "execute_result"
    }
   ],
   "source": [
    "import cv2 as cv \n",
    "import numpy as np \n",
    "\n",
    "blank = np.zeros((500,500,3),dtype='uint8')\n",
    "blank[200:300,300:400] = 0,255,0\n",
    "cv.imshow('blank',blank)\n",
    "cv.rectangle(blank,(0,0),(250,250),(0,250,0),thickness = 2)\n",
    "img = cv.imread('meme.jpg')\n",
    "cv.imshow('photo',img)\n",
    "cv.waitKey(0)"
   ]
  },
  {
   "cell_type": "markdown",
   "metadata": {},
   "source": [
    "Draw A Circle "
   ]
  },
  {
   "cell_type": "code",
   "execution_count": 6,
   "metadata": {},
   "outputs": [
    {
     "data": {
      "text/plain": [
       "100"
      ]
     },
     "execution_count": 6,
     "metadata": {},
     "output_type": "execute_result"
    }
   ],
   "source": [
    "import cv2 as cv \n",
    "import numpy as np \n",
    "blank = np.zeros((500,500,3),dtype='uint8')\n",
    "blank[200:300,300:400] = 0,255,0\n",
    "cv.circle(blank,(blank.shape[1]//2,blank.shape[0]//2),40,(0,0,255),thickness = 3)\n",
    "cv.imshow('circle',blank)\n",
    "cv.waitKey(0)"
   ]
  },
  {
   "cell_type": "markdown",
   "metadata": {},
   "source": [
    "how to make line "
   ]
  },
  {
   "cell_type": "code",
   "execution_count": 7,
   "metadata": {},
   "outputs": [],
   "source": [
    "import cv2 as cv \n",
    "import numpy as np \n",
    "blank = np.zeros((500,500,3),dtype='uint8')\n",
    "blank[200:300,300:400] = 0,255,0\n",
    "cv.line(blank,(100,250),(300,400),(255,255,255),thickness = 3)\n",
    "cv.imshow('Line',blank)"
   ]
  },
  {
   "cell_type": "code",
   "execution_count": 8,
   "metadata": {},
   "outputs": [
    {
     "data": {
      "text/plain": [
       "100"
      ]
     },
     "execution_count": 8,
     "metadata": {},
     "output_type": "execute_result"
    }
   ],
   "source": [
    "cv.putText(blank,'Hello , my name is zainul',(0,255),cv.FONT_HERSHEY_TRIPLEX,1.0,(0,255,0),2)\n",
    "cv.imshow('Text',blank)\n",
    "cv.waitKey(0)"
   ]
  },
  {
   "cell_type": "markdown",
   "metadata": {},
   "source": [
    "How to change the colore "
   ]
  },
  {
   "cell_type": "code",
   "execution_count": 2,
   "metadata": {},
   "outputs": [
    {
     "ename": "NameError",
     "evalue": "name 'img' is not defined",
     "output_type": "error",
     "traceback": [
      "\u001b[0;31m---------------------------------------------------------------------------\u001b[0m",
      "\u001b[0;31mNameError\u001b[0m                                 Traceback (most recent call last)",
      "Input \u001b[0;32mIn [2]\u001b[0m, in \u001b[0;36m<module>\u001b[0;34m\u001b[0m\n\u001b[1;32m      1\u001b[0m \u001b[38;5;28;01mimport\u001b[39;00m \u001b[38;5;21;01mcv2\u001b[39;00m \u001b[38;5;28;01mas\u001b[39;00m \u001b[38;5;21;01mcv\u001b[39;00m\n\u001b[0;32m----> 2\u001b[0m gray \u001b[38;5;241m=\u001b[39m cv\u001b[38;5;241m.\u001b[39mcvtColor(\u001b[43mimg\u001b[49m,cv\u001b[38;5;241m.\u001b[39mCOLOR_BGR2GRAY)\n\u001b[1;32m      3\u001b[0m cv\u001b[38;5;241m.\u001b[39mimshow(\u001b[38;5;124m'\u001b[39m\u001b[38;5;124mGray\u001b[39m\u001b[38;5;124m'\u001b[39m,gray)\n",
      "\u001b[0;31mNameError\u001b[0m: name 'img' is not defined"
     ]
    }
   ],
   "source": [
    "import cv2 as cv\n",
    "\n",
    "gray = cv.cvtColor(img,cv.COLOR_BGR2GRAY)\n",
    "cv.imshow('Gray',gray)"
   ]
  },
  {
   "cell_type": "code",
   "execution_count": 3,
   "metadata": {},
   "outputs": [],
   "source": [
    "import cv2 as cv \n",
    "img = cv.imread('meme.jpg')\n",
    "cv.imshow('meme',img)"
   ]
  },
  {
   "cell_type": "markdown",
   "metadata": {},
   "source": [
    "Blur"
   ]
  },
  {
   "cell_type": "code",
   "execution_count": null,
   "metadata": {},
   "outputs": [],
   "source": [
    "import cv2 as cv \n",
    "img = cv.imread('meme.jpg')\n",
    "cv.imshow('meme',img)\n",
    "cv.waitKey(0)\n",
    "blur = cv.GaussianBlur(img,(7,7),cv.BORDER_DEFAULT)\n",
    "cv.imshow('blur',blur)\n",
    "cv.waitKey(0)"
   ]
  },
  {
   "cell_type": "code",
   "execution_count": null,
   "metadata": {},
   "outputs": [],
   "source": [
    "import cv2 as cv\n",
    "img = cv.imread('meme.jpg')\n",
    "cv.imshow('meme',img)\n",
    "cv.waitKey(0)"
   ]
  },
  {
   "cell_type": "markdown",
   "metadata": {},
   "source": [
    "Edge Cascade "
   ]
  },
  {
   "cell_type": "code",
   "execution_count": null,
   "metadata": {},
   "outputs": [],
   "source": [
    "import cv2 as cv\n",
    "img = cv.imread('meme.jpg')\n",
    "cv.imshow('meme',img)\n",
    "cv.waitKey(0)\n",
    "canny = cv.Canny(img,125,175)\n",
    "cv.imshow('Canny Edge')"
   ]
  },
  {
   "cell_type": "markdown",
   "metadata": {},
   "source": [
    "image transformation"
   ]
  },
  {
   "cell_type": "code",
   "execution_count": 1,
   "metadata": {},
   "outputs": [],
   "source": [
    "import cv2 as cv\n",
    "import numpy as np\n",
    "img = cv.imread('meme.jpg')\n",
    "cv.imshow(\"Boston\",img)\n",
    "def translate(img , x , y):\n",
    "    transMat = np.float32([[1,0,x],[0,1,y]])\n",
    "    dimension = (img.shape[1],img.shape[0])\n",
    "    return cv.warpAffine(img,transMat,dimension)\n",
    "\n",
    "translated = translate(img,100,100)"
   ]
  }
 ],
 "metadata": {
  "interpreter": {
   "hash": "f9f85f796d01129d0dd105a088854619f454435301f6ffec2fea96ecbd9be4ac"
  },
  "kernelspec": {
   "display_name": "Python 3.9.5 64-bit",
   "language": "python",
   "name": "python3"
  },
  "language_info": {
   "codemirror_mode": {
    "name": "ipython",
    "version": 3
   },
   "file_extension": ".py",
   "mimetype": "text/x-python",
   "name": "python",
   "nbconvert_exporter": "python",
   "pygments_lexer": "ipython3",
   "version": "3.9.5"
  },
  "orig_nbformat": 4
 },
 "nbformat": 4,
 "nbformat_minor": 2
}
